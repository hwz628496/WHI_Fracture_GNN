{
 "cells": [
  {
   "cell_type": "code",
   "execution_count": 9,
   "metadata": {},
   "outputs": [],
   "source": [
    "import pandas as pd\n",
    "import numpy as np\n",
    "import matplotlib.pyplot as plt\n",
    "\n",
    "import sklearn\n",
    "import tqdm.notebook as tqdm\n",
    "\n",
    "import scipy\n",
    "import networkx as nx\n",
    "from pgmpy.estimators.CITests import chi_square, pearsonr\n"
   ]
  },
  {
   "cell_type": "markdown",
   "metadata": {},
   "source": [
    "Note: chi_square is highly sensitive to bin number/size, sample size, non-normality, etc. Am looking for alternatives but no elegant solutions yet. YMMV"
   ]
  },
  {
   "cell_type": "code",
   "execution_count": 2,
   "metadata": {},
   "outputs": [
    {
     "data": {
      "application/vnd.microsoft.datawrangler.viewer.v0+json": {
       "columns": [
        {
         "name": "index",
         "rawType": "int64",
         "type": "integer"
        },
        {
         "name": "ID",
         "rawType": "int64",
         "type": "integer"
        },
        {
         "name": "CTFLAG",
         "rawType": "int64",
         "type": "integer"
        },
        {
         "name": "ANYFX",
         "rawType": "int64",
         "type": "integer"
        },
        {
         "name": "FRAX_SCORE",
         "rawType": "float64",
         "type": "float"
        },
        {
         "name": "PARKINS",
         "rawType": "float64",
         "type": "float"
        },
        {
         "name": "RHEUMAT",
         "rawType": "float64",
         "type": "float"
        },
        {
         "name": "OSTEOPOR",
         "rawType": "float64",
         "type": "float"
        },
        {
         "name": "ARTHRIT",
         "rawType": "float64",
         "type": "float"
        },
        {
         "name": "CANC_F30",
         "rawType": "float64",
         "type": "float"
        },
        {
         "name": "CATARACT",
         "rawType": "float64",
         "type": "float"
        },
        {
         "name": "DIARRHEA",
         "rawType": "float64",
         "type": "float"
        },
        {
         "name": "ASTHMA",
         "rawType": "float64",
         "type": "float"
        },
        {
         "name": "EMPHYSEM",
         "rawType": "float64",
         "type": "float"
        },
        {
         "name": "CHF_F30",
         "rawType": "float64",
         "type": "float"
        },
        {
         "name": "CONSTIP",
         "rawType": "float64",
         "type": "float"
        },
        {
         "name": "HICHOLRP",
         "rawType": "float64",
         "type": "float"
        },
        {
         "name": "DIAB",
         "rawType": "float64",
         "type": "float"
        },
        {
         "name": "MIGRAINE",
         "rawType": "float64",
         "type": "float"
        },
        {
         "name": "NUMFALLS",
         "rawType": "float64",
         "type": "float"
        },
        {
         "name": "STROKE",
         "rawType": "int64",
         "type": "integer"
        },
        {
         "name": "GENHEL",
         "rawType": "float64",
         "type": "float"
        },
        {
         "name": "HEARLOSS",
         "rawType": "float64",
         "type": "float"
        },
        {
         "name": "INCONT",
         "rawType": "float64",
         "type": "float"
        },
        {
         "name": "CVD",
         "rawType": "float64",
         "type": "float"
        },
        {
         "name": "HYPT",
         "rawType": "float64",
         "type": "float"
        },
        {
         "name": "LIVERDIS",
         "rawType": "float64",
         "type": "float"
        },
        {
         "name": "TRBSEE",
         "rawType": "float64",
         "type": "float"
        },
        {
         "name": "BKBONMOM",
         "rawType": "float64",
         "type": "float"
        },
        {
         "name": "BKBONDAD",
         "rawType": "float64",
         "type": "float"
        },
        {
         "name": "ABORTION",
         "rawType": "float64",
         "type": "float"
        },
        {
         "name": "MENARCHE",
         "rawType": "float64",
         "type": "float"
        },
        {
         "name": "MENO",
         "rawType": "float64",
         "type": "float"
        },
        {
         "name": "PREG",
         "rawType": "float64",
         "type": "float"
        },
        {
         "name": "PREGNUM",
         "rawType": "float64",
         "type": "float"
        },
        {
         "name": "BRSTFDN",
         "rawType": "float64",
         "type": "float"
        },
        {
         "name": "BOOPH",
         "rawType": "float64",
         "type": "float"
        },
        {
         "name": "BMI",
         "rawType": "float64",
         "type": "float"
        },
        {
         "name": "HEIGHT",
         "rawType": "float64",
         "type": "float"
        },
        {
         "name": "HIP",
         "rawType": "float64",
         "type": "float"
        },
        {
         "name": "WAIST",
         "rawType": "float64",
         "type": "float"
        },
        {
         "name": "WEIGHT",
         "rawType": "float64",
         "type": "float"
        },
        {
         "name": "AGE",
         "rawType": "int64",
         "type": "integer"
        },
        {
         "name": "RACENIH",
         "rawType": "int64",
         "type": "integer"
        },
        {
         "name": "ETHNICNIH",
         "rawType": "int64",
         "type": "integer"
        },
        {
         "name": "EDUC",
         "rawType": "float64",
         "type": "float"
        },
        {
         "name": "INCOME",
         "rawType": "float64",
         "type": "float"
        },
        {
         "name": "REGION",
         "rawType": "int64",
         "type": "integer"
        },
        {
         "name": "MARITAL",
         "rawType": "float64",
         "type": "float"
        },
        {
         "name": "LIVALOR",
         "rawType": "float64",
         "type": "float"
        },
        {
         "name": "MAINJOB",
         "rawType": "float64",
         "type": "float"
        },
        {
         "name": "F45CALC",
         "rawType": "float64",
         "type": "float"
        },
        {
         "name": "TOTH",
         "rawType": "float64",
         "type": "float"
        },
        {
         "name": "CORT",
         "rawType": "float64",
         "type": "float"
        },
        {
         "name": "F60ALCWK",
         "rawType": "float64",
         "type": "float"
        },
        {
         "name": "F60CAFF",
         "rawType": "float64",
         "type": "float"
        },
        {
         "name": "F60CALC",
         "rawType": "float64",
         "type": "float"
        },
        {
         "name": "F60VITD",
         "rawType": "float64",
         "type": "float"
        },
        {
         "name": "F60VITA",
         "rawType": "float64",
         "type": "float"
        },
        {
         "name": "TEXPWK",
         "rawType": "float64",
         "type": "float"
        },
        {
         "name": "WALKSPD",
         "rawType": "float64",
         "type": "float"
        },
        {
         "name": "BKBONE",
         "rawType": "float64",
         "type": "float"
        },
        {
         "name": "BKHIP",
         "rawType": "float64",
         "type": "float"
        },
        {
         "name": "BKBACK",
         "rawType": "float64",
         "type": "float"
        },
        {
         "name": "BKLARM",
         "rawType": "float64",
         "type": "float"
        },
        {
         "name": "SMOKING",
         "rawType": "float64",
         "type": "float"
        },
        {
         "name": "YEARS_MENOPAUSE",
         "rawType": "float64",
         "type": "float"
        },
        {
         "name": "DUR_MENA_MENO",
         "rawType": "float64",
         "type": "float"
        }
       ],
       "conversionMethod": "pd.DataFrame",
       "ref": "f079de6a-129b-4bda-8a9f-85badec53c51",
       "rows": [
        [
         "0",
         "131073",
         "1",
         "0",
         "6.14",
         "0.0",
         "0.0",
         "0.0",
         "0.0",
         "0.0",
         "0.0",
         "0.0",
         "0.0",
         "0.0",
         "0.0",
         "0.0",
         "0.0",
         "0.0",
         "0.0",
         "1.0",
         "0",
         "2.0",
         "0.0",
         "1.0",
         "0.0",
         "0.0",
         "0.0",
         "0.0",
         "0.0",
         "0.0",
         "0.0",
         "4.0",
         "49.0",
         "1.0",
         "5.0",
         "4.0",
         "0.0",
         "31.05547",
         "160.4",
         "112.0",
         "92.6",
         "79.9",
         "59",
         "5",
         "0",
         "9.0",
         "3.0",
         "4",
         "4.0",
         "0.0",
         "3.0",
         "162.0",
         "1.0",
         "0.0",
         "2.42308",
         "326.57181",
         "1346.75342",
         "7.92636",
         "975.84083",
         "2.5",
         "3.0",
         "1.0",
         "0.0",
         "0.0",
         "1.0",
         "1.0",
         "10.0",
         "-45.0"
        ],
        [
         "1",
         "262147",
         "1",
         "0",
         "8.05",
         "0.0",
         "8.0",
         "0.0",
         "1.0",
         "0.0",
         "0.0",
         "0.0",
         "0.0",
         "0.0",
         "0.0",
         "0.0",
         "0.0",
         "0.0",
         "0.0",
         "0.0",
         "0",
         "2.0",
         "0.0",
         "1.0",
         "0.0",
         "0.0",
         "0.0",
         "0.0",
         "0.0",
         "0.0",
         "0.0",
         "6.0",
         "50.0",
         "1.0",
         "7.0",
         "6.0",
         "0.0",
         "27.64802",
         "178.0",
         "105.5",
         "86.0",
         "87.6",
         "63",
         "5",
         "0",
         "7.0",
         "4.0",
         "1",
         "4.0",
         "0.0",
         "1.0",
         "5400.0",
         "0.0",
         "0.0",
         "0.0",
         "200.85443",
         "965.85001",
         "6.49924",
         "848.40762",
         "26.83333",
         "3.0",
         "0.0",
         "0.0",
         "0.0",
         "0.0",
         "1.0",
         "13.0",
         "-44.0"
        ],
        [
         "2",
         "131075",
         "0",
         "0",
         "12.88",
         "0.0",
         "8.0",
         "0.0",
         "1.0",
         "0.0",
         "1.0",
         "0.0",
         "0.0",
         "0.0",
         "0.0",
         "1.0",
         "0.0",
         "0.0",
         "0.0",
         "0.0",
         "0",
         "3.0",
         "1.0",
         "1.0",
         "0.0",
         "1.0",
         "0.0",
         "0.0",
         "0.0",
         "0.0",
         "0.0",
         "3.0",
         "48.0",
         "1.0",
         "5.0",
         "1.0",
         "0.0",
         "28.98114",
         "163.0",
         "113.0",
         "82.0",
         "77.0",
         "59",
         "5",
         "0",
         "5.0",
         "3.0",
         "3",
         "4.0",
         "0.0",
         "4.0",
         "1000.0",
         "1.0",
         "0.0",
         "5.15385",
         "176.87987",
         "631.89585",
         "2.432",
         "629.72861",
         "21.0",
         "3.0",
         "1.0",
         "0.0",
         "0.0",
         "0.0",
         "1.0",
         "11.0",
         "-45.0"
        ],
        [
         "3",
         "262149",
         "0",
         "0",
         "8.78",
         "0.0",
         "8.0",
         "0.0",
         "1.0",
         "0.0",
         "0.0",
         "0.0",
         "0.0",
         "0.0",
         "0.0",
         "0.0",
         "0.0",
         "0.0",
         "0.0",
         "1.0",
         "0",
         "1.0",
         "0.0",
         "1.0",
         "0.0",
         "1.0",
         "0.0",
         "0.0",
         "1.0",
         "0.0",
         "0.0",
         "3.0",
         "48.0",
         "1.0",
         "5.0",
         "0.0",
         "0.0",
         "23.47656",
         "160.0",
         "100.5",
         "76.0",
         "60.1",
         "63",
         "5",
         "0",
         "9.0",
         "3.0",
         "1",
         "2.0",
         "1.0",
         "1.0",
         "600.0",
         "1.0",
         "0.0",
         "3.15385",
         "90.11295",
         "768.10932",
         "1.85852",
         "339.14853",
         "32.83333",
         "4.0",
         "0.0",
         "0.0",
         "0.0",
         "0.0",
         "1.0",
         "15.0",
         "-45.0"
        ],
        [
         "4",
         "262150",
         "1",
         "1",
         "1.73",
         "0.0",
         "0.0",
         "0.0",
         "0.0",
         "0.0",
         "0.0",
         "0.0",
         "0.0",
         "0.0",
         "0.0",
         "0.0",
         "0.0",
         "0.0",
         "0.0",
         "0.0",
         "0",
         "2.0",
         "1.0",
         "1.0",
         "0.0",
         "0.0",
         "0.0",
         "0.0",
         "0.0",
         "0.0",
         "2.0",
         "3.0",
         "33.0",
         "0.0",
         "0.0",
         "0.0",
         "0.0",
         "30.20922",
         "161.2",
         "107.5",
         "88.0",
         "78.5",
         "52",
         "4",
         "1",
         "8.0",
         "5.0",
         "4",
         "4.0",
         "0.0",
         "2.0",
         "0.0",
         "0.0",
         "0.0",
         "0.5",
         "83.27564",
         "536.54505",
         "3.63204",
         "1574.51101",
         "21.83333",
         "3.0",
         "0.0",
         "0.0",
         "0.0",
         "0.0",
         "0.0",
         "19.0",
         "-30.0"
        ]
       ],
       "shape": {
        "columns": 67,
        "rows": 5
       }
      },
      "text/html": [
       "<div>\n",
       "<style scoped>\n",
       "    .dataframe tbody tr th:only-of-type {\n",
       "        vertical-align: middle;\n",
       "    }\n",
       "\n",
       "    .dataframe tbody tr th {\n",
       "        vertical-align: top;\n",
       "    }\n",
       "\n",
       "    .dataframe thead th {\n",
       "        text-align: right;\n",
       "    }\n",
       "</style>\n",
       "<table border=\"1\" class=\"dataframe\">\n",
       "  <thead>\n",
       "    <tr style=\"text-align: right;\">\n",
       "      <th></th>\n",
       "      <th>ID</th>\n",
       "      <th>CTFLAG</th>\n",
       "      <th>ANYFX</th>\n",
       "      <th>FRAX_SCORE</th>\n",
       "      <th>PARKINS</th>\n",
       "      <th>RHEUMAT</th>\n",
       "      <th>OSTEOPOR</th>\n",
       "      <th>ARTHRIT</th>\n",
       "      <th>CANC_F30</th>\n",
       "      <th>CATARACT</th>\n",
       "      <th>...</th>\n",
       "      <th>F60VITA</th>\n",
       "      <th>TEXPWK</th>\n",
       "      <th>WALKSPD</th>\n",
       "      <th>BKBONE</th>\n",
       "      <th>BKHIP</th>\n",
       "      <th>BKBACK</th>\n",
       "      <th>BKLARM</th>\n",
       "      <th>SMOKING</th>\n",
       "      <th>YEARS_MENOPAUSE</th>\n",
       "      <th>DUR_MENA_MENO</th>\n",
       "    </tr>\n",
       "  </thead>\n",
       "  <tbody>\n",
       "    <tr>\n",
       "      <th>0</th>\n",
       "      <td>131073</td>\n",
       "      <td>1</td>\n",
       "      <td>0</td>\n",
       "      <td>6.14</td>\n",
       "      <td>0.0</td>\n",
       "      <td>0.0</td>\n",
       "      <td>0.0</td>\n",
       "      <td>0.0</td>\n",
       "      <td>0.0</td>\n",
       "      <td>0.0</td>\n",
       "      <td>...</td>\n",
       "      <td>975.84083</td>\n",
       "      <td>2.50000</td>\n",
       "      <td>3.0</td>\n",
       "      <td>1.0</td>\n",
       "      <td>0.0</td>\n",
       "      <td>0.0</td>\n",
       "      <td>1.0</td>\n",
       "      <td>1.0</td>\n",
       "      <td>10.0</td>\n",
       "      <td>-45.0</td>\n",
       "    </tr>\n",
       "    <tr>\n",
       "      <th>1</th>\n",
       "      <td>262147</td>\n",
       "      <td>1</td>\n",
       "      <td>0</td>\n",
       "      <td>8.05</td>\n",
       "      <td>0.0</td>\n",
       "      <td>8.0</td>\n",
       "      <td>0.0</td>\n",
       "      <td>1.0</td>\n",
       "      <td>0.0</td>\n",
       "      <td>0.0</td>\n",
       "      <td>...</td>\n",
       "      <td>848.40762</td>\n",
       "      <td>26.83333</td>\n",
       "      <td>3.0</td>\n",
       "      <td>0.0</td>\n",
       "      <td>0.0</td>\n",
       "      <td>0.0</td>\n",
       "      <td>0.0</td>\n",
       "      <td>1.0</td>\n",
       "      <td>13.0</td>\n",
       "      <td>-44.0</td>\n",
       "    </tr>\n",
       "    <tr>\n",
       "      <th>2</th>\n",
       "      <td>131075</td>\n",
       "      <td>0</td>\n",
       "      <td>0</td>\n",
       "      <td>12.88</td>\n",
       "      <td>0.0</td>\n",
       "      <td>8.0</td>\n",
       "      <td>0.0</td>\n",
       "      <td>1.0</td>\n",
       "      <td>0.0</td>\n",
       "      <td>1.0</td>\n",
       "      <td>...</td>\n",
       "      <td>629.72861</td>\n",
       "      <td>21.00000</td>\n",
       "      <td>3.0</td>\n",
       "      <td>1.0</td>\n",
       "      <td>0.0</td>\n",
       "      <td>0.0</td>\n",
       "      <td>0.0</td>\n",
       "      <td>1.0</td>\n",
       "      <td>11.0</td>\n",
       "      <td>-45.0</td>\n",
       "    </tr>\n",
       "    <tr>\n",
       "      <th>3</th>\n",
       "      <td>262149</td>\n",
       "      <td>0</td>\n",
       "      <td>0</td>\n",
       "      <td>8.78</td>\n",
       "      <td>0.0</td>\n",
       "      <td>8.0</td>\n",
       "      <td>0.0</td>\n",
       "      <td>1.0</td>\n",
       "      <td>0.0</td>\n",
       "      <td>0.0</td>\n",
       "      <td>...</td>\n",
       "      <td>339.14853</td>\n",
       "      <td>32.83333</td>\n",
       "      <td>4.0</td>\n",
       "      <td>0.0</td>\n",
       "      <td>0.0</td>\n",
       "      <td>0.0</td>\n",
       "      <td>0.0</td>\n",
       "      <td>1.0</td>\n",
       "      <td>15.0</td>\n",
       "      <td>-45.0</td>\n",
       "    </tr>\n",
       "    <tr>\n",
       "      <th>4</th>\n",
       "      <td>262150</td>\n",
       "      <td>1</td>\n",
       "      <td>1</td>\n",
       "      <td>1.73</td>\n",
       "      <td>0.0</td>\n",
       "      <td>0.0</td>\n",
       "      <td>0.0</td>\n",
       "      <td>0.0</td>\n",
       "      <td>0.0</td>\n",
       "      <td>0.0</td>\n",
       "      <td>...</td>\n",
       "      <td>1574.51101</td>\n",
       "      <td>21.83333</td>\n",
       "      <td>3.0</td>\n",
       "      <td>0.0</td>\n",
       "      <td>0.0</td>\n",
       "      <td>0.0</td>\n",
       "      <td>0.0</td>\n",
       "      <td>0.0</td>\n",
       "      <td>19.0</td>\n",
       "      <td>-30.0</td>\n",
       "    </tr>\n",
       "  </tbody>\n",
       "</table>\n",
       "<p>5 rows × 67 columns</p>\n",
       "</div>"
      ],
      "text/plain": [
       "       ID  CTFLAG  ANYFX  FRAX_SCORE  PARKINS  RHEUMAT  OSTEOPOR  ARTHRIT  \\\n",
       "0  131073       1      0        6.14      0.0      0.0       0.0      0.0   \n",
       "1  262147       1      0        8.05      0.0      8.0       0.0      1.0   \n",
       "2  131075       0      0       12.88      0.0      8.0       0.0      1.0   \n",
       "3  262149       0      0        8.78      0.0      8.0       0.0      1.0   \n",
       "4  262150       1      1        1.73      0.0      0.0       0.0      0.0   \n",
       "\n",
       "   CANC_F30  CATARACT  ...     F60VITA    TEXPWK  WALKSPD  BKBONE  BKHIP  \\\n",
       "0       0.0       0.0  ...   975.84083   2.50000      3.0     1.0    0.0   \n",
       "1       0.0       0.0  ...   848.40762  26.83333      3.0     0.0    0.0   \n",
       "2       0.0       1.0  ...   629.72861  21.00000      3.0     1.0    0.0   \n",
       "3       0.0       0.0  ...   339.14853  32.83333      4.0     0.0    0.0   \n",
       "4       0.0       0.0  ...  1574.51101  21.83333      3.0     0.0    0.0   \n",
       "\n",
       "   BKBACK  BKLARM  SMOKING  YEARS_MENOPAUSE  DUR_MENA_MENO  \n",
       "0     0.0     1.0      1.0             10.0          -45.0  \n",
       "1     0.0     0.0      1.0             13.0          -44.0  \n",
       "2     0.0     0.0      1.0             11.0          -45.0  \n",
       "3     0.0     0.0      1.0             15.0          -45.0  \n",
       "4     0.0     0.0      0.0             19.0          -30.0  \n",
       "\n",
       "[5 rows x 67 columns]"
      ]
     },
     "execution_count": 2,
     "metadata": {},
     "output_type": "execute_result"
    }
   ],
   "source": [
    "df = pd.read_csv(\"/Users/henryzheng/Documents/GitHub/WHI_Fracture_GNN/dataset/dataset.csv\", index_col = [0]).reset_index(drop = True)\n",
    "df.head()"
   ]
  },
  {
   "cell_type": "code",
   "execution_count": 3,
   "metadata": {},
   "outputs": [
    {
     "data": {
      "text/plain": [
       "Index(['ID', 'CTFLAG', 'ANYFX', 'FRAX_SCORE', 'PARKINS', 'RHEUMAT', 'OSTEOPOR',\n",
       "       'ARTHRIT', 'CANC_F30', 'CATARACT', 'DIARRHEA', 'ASTHMA', 'EMPHYSEM',\n",
       "       'CHF_F30', 'CONSTIP', 'HICHOLRP', 'DIAB', 'MIGRAINE', 'NUMFALLS',\n",
       "       'STROKE', 'GENHEL', 'HEARLOSS', 'INCONT', 'CVD', 'HYPT', 'LIVERDIS',\n",
       "       'TRBSEE', 'BKBONMOM', 'BKBONDAD', 'ABORTION', 'MENARCHE', 'MENO',\n",
       "       'PREG', 'PREGNUM', 'BRSTFDN', 'BOOPH', 'BMI', 'HEIGHT', 'HIP', 'WAIST',\n",
       "       'WEIGHT', 'AGE', 'RACENIH', 'ETHNICNIH', 'EDUC', 'INCOME', 'REGION',\n",
       "       'MARITAL', 'LIVALOR', 'MAINJOB', 'F45CALC', 'TOTH', 'CORT', 'F60ALCWK',\n",
       "       'F60CAFF', 'F60CALC', 'F60VITD', 'F60VITA', 'TEXPWK', 'WALKSPD',\n",
       "       'BKBONE', 'BKHIP', 'BKBACK', 'BKLARM', 'SMOKING', 'YEARS_MENOPAUSE',\n",
       "       'DUR_MENA_MENO'],\n",
       "      dtype='object')"
      ]
     },
     "execution_count": 3,
     "metadata": {},
     "output_type": "execute_result"
    }
   ],
   "source": [
    "df.columns"
   ]
  },
  {
   "cell_type": "code",
   "execution_count": 12,
   "metadata": {},
   "outputs": [
    {
     "data": {
      "text/plain": [
       "(0.003070452909679909, 0.4029344799065402)"
      ]
     },
     "execution_count": 12,
     "metadata": {},
     "output_type": "execute_result"
    }
   ],
   "source": [
    "# second number is p-value\n",
    "pearsonr(X='RACENIH', Y='ANYFX', Z=['AGE', 'BMI'], data=df, boolean=False, significance_level=0.05)"
   ]
  },
  {
   "cell_type": "code",
   "execution_count": 26,
   "metadata": {},
   "outputs": [
    {
     "data": {
      "text/plain": [
       "(251.02474447404538, 1.0, 491)"
      ]
     },
     "execution_count": 26,
     "metadata": {},
     "output_type": "execute_result"
    }
   ],
   "source": [
    "chi_square(X='MENO', Y='ANYFX', Z=['AGE', 'BMI'], data=df, boolean=False, significance_level=0.05)"
   ]
  },
  {
   "cell_type": "code",
   "execution_count": 10,
   "metadata": {},
   "outputs": [
    {
     "data": {
      "text/plain": [
       "(0.05897086027349313, 3.6614241136508065e-58)"
      ]
     },
     "execution_count": 10,
     "metadata": {},
     "output_type": "execute_result"
    }
   ],
   "source": [
    "pearsonr(X='FRAX_SCORE', Y='ANYFX', Z=['AGE', 'BMI'], data=df, boolean=False, significance_level=0.05)"
   ]
  },
  {
   "cell_type": "code",
   "execution_count": 11,
   "metadata": {},
   "outputs": [
    {
     "data": {
      "text/plain": [
       "(0.05931138606968235, 8.126399020334594e-59)"
      ]
     },
     "execution_count": 11,
     "metadata": {},
     "output_type": "execute_result"
    }
   ],
   "source": [
    "pearsonr(X='FRAX_SCORE', Y='ANYFX', Z=[], data=df, boolean=False, significance_level=0.05)"
   ]
  },
  {
   "cell_type": "code",
   "execution_count": 8,
   "metadata": {},
   "outputs": [
    {
     "data": {
      "text/plain": [
       "(18044.453368301187, 2.2833812618472393e-10, 16874)"
      ]
     },
     "execution_count": 8,
     "metadata": {},
     "output_type": "execute_result"
    }
   ],
   "source": [
    "chi_square(X='YEARS_MENOPAUSE', Y='ANYFX', Z=['WEIGHT'], data=df, boolean=False, significance_level=0.05)"
   ]
  }
 ],
 "metadata": {
  "kernelspec": {
   "display_name": "henrybase",
   "language": "python",
   "name": "python3"
  },
  "language_info": {
   "codemirror_mode": {
    "name": "ipython",
    "version": 3
   },
   "file_extension": ".py",
   "mimetype": "text/x-python",
   "name": "python",
   "nbconvert_exporter": "python",
   "pygments_lexer": "ipython3",
   "version": "3.9.18"
  }
 },
 "nbformat": 4,
 "nbformat_minor": 2
}

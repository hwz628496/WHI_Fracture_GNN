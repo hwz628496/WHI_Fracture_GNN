{
 "cells": [
  {
   "cell_type": "code",
   "execution_count": 31,
   "metadata": {},
   "outputs": [],
   "source": [
    "import pandas as pd\n",
    "import numpy as np\n",
    "import matplotlib.pyplot as plt\n",
    "\n",
    "import sklearn\n",
    "import tqdm.notebook as tqdm\n",
    "\n",
    "import scipy\n",
    "import networkx as nx\n",
    "from pgmpy.estimators.CITests import chi_square\n"
   ]
  },
  {
   "cell_type": "code",
   "execution_count": 3,
   "metadata": {},
   "outputs": [
    {
     "name": "stdout",
     "output_type": "stream",
     "text": [
      "Dataset Shape: (31470, 67)\n"
     ]
    }
   ],
   "source": [
    "df = pd.read_csv(\"/Users/henryzheng/Documents/GitHub/WHI_Fracture_GNN/dataset/dataset.csv\", index_col = [0]).reset_index(drop = True)\n",
    "df.head()\n",
    "\n",
    "#extract cohort, labels, patid\n",
    "df = df[df[\"CTFLAG\"] == 1].reset_index(drop=True)\n",
    "\n",
    "#do not drop frax score yet\n",
    "labels = df[\"ANYFX\"].reset_index(drop=True)\n",
    "dataset = df.drop(columns = [\"ANYFX\", \"CTFLAG\", \"ID\"]).reset_index(drop = True)\n",
    "\n",
    "print(\"Dataset Shape:\", df.shape)"
   ]
  },
  {
   "cell_type": "code",
   "execution_count": 5,
   "metadata": {},
   "outputs": [
    {
     "data": {
      "text/plain": [
       "Index(['ID', 'CTFLAG', 'ANYFX', 'FRAX_SCORE', 'PARKINS', 'RHEUMAT', 'OSTEOPOR',\n",
       "       'ARTHRIT', 'CANC_F30', 'CATARACT', 'DIARRHEA', 'ASTHMA', 'EMPHYSEM',\n",
       "       'CHF_F30', 'CONSTIP', 'HICHOLRP', 'DIAB', 'MIGRAINE', 'NUMFALLS',\n",
       "       'STROKE', 'GENHEL', 'HEARLOSS', 'INCONT', 'CVD', 'HYPT', 'LIVERDIS',\n",
       "       'TRBSEE', 'BKBONMOM', 'BKBONDAD', 'ABORTION', 'MENARCHE', 'MENO',\n",
       "       'PREG', 'PREGNUM', 'BRSTFDN', 'BOOPH', 'BMI', 'HEIGHT', 'HIP', 'WAIST',\n",
       "       'WEIGHT', 'AGE', 'RACENIH', 'ETHNICNIH', 'EDUC', 'INCOME', 'REGION',\n",
       "       'MARITAL', 'LIVALOR', 'MAINJOB', 'F45CALC', 'TOTH', 'CORT', 'F60ALCWK',\n",
       "       'F60CAFF', 'F60CALC', 'F60VITD', 'F60VITA', 'TEXPWK', 'WALKSPD',\n",
       "       'BKBONE', 'BKHIP', 'BKBACK', 'BKLARM', 'SMOKING', 'YEARS_MENOPAUSE',\n",
       "       'DUR_MENA_MENO'],\n",
       "      dtype='object')"
      ]
     },
     "execution_count": 5,
     "metadata": {},
     "output_type": "execute_result"
    }
   ],
   "source": [
    "df.columns"
   ]
  },
  {
   "cell_type": "code",
   "execution_count": null,
   "metadata": {},
   "outputs": [
    {
     "data": {
      "text/plain": [
       "(5.124893707482993, 0.9999999999577719, 38)"
      ]
     },
     "execution_count": 29,
     "metadata": {},
     "output_type": "execute_result"
    }
   ],
   "source": [
    "# second number is p-value\n",
    "chi_square(X='RACENIH', Y='ANYFX', Z=['AGE', 'BMI'], data=df, boolean=False, significance_level=0.05)"
   ]
  },
  {
   "cell_type": "code",
   "execution_count": 32,
   "metadata": {},
   "outputs": [
    {
     "data": {
      "text/plain": [
       "(75.36547619047619, 0.999999999995265, 174)"
      ]
     },
     "execution_count": 32,
     "metadata": {},
     "output_type": "execute_result"
    }
   ],
   "source": [
    "chi_square(X='MENO', Y='ANYFX', Z=['AGE', 'BMI'], data=df, boolean=False, significance_level=0.05)"
   ]
  },
  {
   "cell_type": "code",
   "execution_count": 34,
   "metadata": {},
   "outputs": [
    {
     "data": {
      "text/plain": [
       "(28.98636904761905, 0.9999999999999971, 107)"
      ]
     },
     "execution_count": 34,
     "metadata": {},
     "output_type": "execute_result"
    }
   ],
   "source": [
    "chi_square(X='FRAX_SCORE', Y='ANYFX', Z=['AGE', 'BMI'], data=df, boolean=False, significance_level=0.05)"
   ]
  },
  {
   "cell_type": "code",
   "execution_count": 35,
   "metadata": {},
   "outputs": [
    {
     "data": {
      "text/plain": [
       "(2745.8058877888325, 4.143338778961384e-21, 2083)"
      ]
     },
     "execution_count": 35,
     "metadata": {},
     "output_type": "execute_result"
    }
   ],
   "source": [
    "chi_square(X='FRAX_SCORE', Y='ANYFX', Z=[], data=df, boolean=False, significance_level=0.05)"
   ]
  },
  {
   "cell_type": "code",
   "execution_count": 39,
   "metadata": {},
   "outputs": [
    {
     "data": {
      "text/plain": [
       "(12288.686547271644, 0.0029353841597691277, 11860)"
      ]
     },
     "execution_count": 39,
     "metadata": {},
     "output_type": "execute_result"
    }
   ],
   "source": [
    "chi_square(X='YEARS_MENOPAUSE', Y='ANYFX', Z=['WEIGHT'], data=df, boolean=False, significance_level=0.05)"
   ]
  }
 ],
 "metadata": {
  "kernelspec": {
   "display_name": "henrybase",
   "language": "python",
   "name": "python3"
  },
  "language_info": {
   "codemirror_mode": {
    "name": "ipython",
    "version": 3
   },
   "file_extension": ".py",
   "mimetype": "text/x-python",
   "name": "python",
   "nbconvert_exporter": "python",
   "pygments_lexer": "ipython3",
   "version": "3.9.18"
  }
 },
 "nbformat": 4,
 "nbformat_minor": 2
}
